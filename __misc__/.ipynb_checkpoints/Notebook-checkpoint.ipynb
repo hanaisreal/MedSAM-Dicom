{
 "cells": [
  {
   "cell_type": "code",
   "execution_count": 1,
   "metadata": {},
   "outputs": [],
   "source": [
    "import numpy as np\n",
    "import os\n",
    "import matplotlib.pyplot as plt\n",
    "import pydicom\n",
    "import cv2\n",
    "import vtk\n",
    "from vtk.util import numpy_support\n",
    "from skimage import measure, morphology\n",
    "from mpl_toolkits.mplot3d.art3d import Poly3DCollection\n",
    "\n",
    "\n",
    "DICOM_FILES = []\n",
    "\n",
    "PATH = \"G:\\\\BMU\\\\Research\\\\Bio-Mechanics\\\\Scans\\\\Rockland CT\\\\DICOM\\\\Abdomen 24Y\\\\S30\""
   ]
  },
  {
   "cell_type": "code",
   "execution_count": null,
   "metadata": {},
   "outputs": [],
   "source": [
    "for file in os.listdir(PATH):\n",
    "    DICOM_FILES.append(pydicom.dcmread(os.path.join(PATH, file)))"
   ]
  },
  {
   "cell_type": "code",
   "execution_count": null,
   "metadata": {},
   "outputs": [],
   "source": [
    "slices = []\n",
    "skipcount = 0\n",
    "for f in DICOM_FILES:\n",
    "    if hasattr(f, 'SliceLocation'):\n",
    "        slices.append(f)\n",
    "    else:\n",
    "        skipcount = skipcount + 1\n",
    "\n",
    "print(\"skipped, no SliceLocation: {}\".format(skipcount))\n",
    "\n",
    "# ensure they are in the correct order\n",
    "slices = sorted(slices, key=lambda s: s.SliceLocation)\n",
    "\n",
    "# pixel aspects, assuming all slices are the same\n",
    "ps = slices[0].PixelSpacing\n",
    "ss = slices[0].SliceThickness\n",
    "ax_aspect = ps[1]/ps[0]\n",
    "sag_aspect = ps[1]/ss\n",
    "cor_aspect = ss/ps[0]\n",
    "\n",
    "# create 3D array\n",
    "img_shape = list(slices[0].pixel_array.shape)\n",
    "img_shape.append(len(slices))\n",
    "img3d = np.zeros(img_shape)\n",
    "\n",
    "# fill 3D array with the images from the files\n",
    "for i, s in enumerate(slices):\n",
    "    img2d = s.pixel_array\n",
    "    img3d[:, :, i] = img2d"
   ]
  },
  {
   "cell_type": "code",
   "execution_count": null,
   "metadata": {},
   "outputs": [],
   "source": [
    "# plot 3 orthogonal slices\n",
    "a1 = plt.subplot(2, 2, 1)\n",
    "plt.imshow(img3d[:, :, 100], cmap = 'gray')\n",
    "#a1.set_aspect(ax_aspect)\n",
    "\n",
    "a2 = plt.subplot(2, 2, 2)\n",
    "plt.imshow(img3d[:, 110, :])\n",
    "#im = cv2.cvtColor(img3d[:, img_shape[1]//2, :], cv2.COLOR_GRAY2BGR)\n",
    "#im = cv2.cvtColor(c, cv2.COLOR_RGB2GREY)\n",
    "#a2.set_aspect(sag_aspect)\n",
    "\n",
    "a3 = plt.subplot(2, 2, 3)\n",
    "plt.imshow(img3d[110, :, :].T)\n",
    "#a3.set_aspect(cor_aspect)\n",
    "\n",
    "plt.show()"
   ]
  },
  {
   "cell_type": "code",
   "execution_count": null,
   "metadata": {},
   "outputs": [],
   "source": [
    "img3d[:, 110, :].astype(np.uint16)"
   ]
  },
  {
   "cell_type": "code",
   "execution_count": null,
   "metadata": {},
   "outputs": [],
   "source": [
    "cv2.imwrite(\"filename.png\", img3d[:, :, 100])"
   ]
  },
  {
   "cell_type": "code",
   "execution_count": null,
   "metadata": {},
   "outputs": [],
   "source": [
    "img = cv2.imread(\"filename.png\")\n",
    "cv2.imshow(\"filename.png\", img)\n",
    "cv2.waitKey()"
   ]
  },
  {
   "cell_type": "code",
   "execution_count": 2,
   "metadata": {},
   "outputs": [],
   "source": [
    "import numpy as np\n",
    "import nrrd"
   ]
  },
  {
   "cell_type": "code",
   "execution_count": 3,
   "metadata": {},
   "outputs": [],
   "source": [
    "readdata, header = nrrd.read('D:\\\\Research\\\\AI Segmentation\\\\codes\\\\Slicer_Seg_Example\\\\Segmentation-label.nrrd', index_order='F')"
   ]
  },
  {
   "cell_type": "code",
   "execution_count": 4,
   "metadata": {},
   "outputs": [
    {
     "data": {
      "text/plain": [
       "(501, 348, 681)"
      ]
     },
     "execution_count": 4,
     "metadata": {},
     "output_type": "execute_result"
    }
   ],
   "source": [
    "readdata.shape"
   ]
  },
  {
   "cell_type": "code",
   "execution_count": 5,
   "metadata": {},
   "outputs": [
    {
     "data": {
      "text/plain": [
       "OrderedDict([('type', 'short'),\n",
       "             ('dimension', 3),\n",
       "             ('space', 'left-posterior-superior'),\n",
       "             ('sizes', array([501, 348, 681])),\n",
       "             ('space directions',\n",
       "              array([[-0.68359375,  0.        ,  0.        ],\n",
       "                     [ 0.        , -0.68359375,  0.        ],\n",
       "                     [ 0.        ,  0.        ,  0.75      ]])),\n",
       "             ('kinds', ['domain', 'domain', 'domain']),\n",
       "             ('endian', 'little'),\n",
       "             ('encoding', 'gzip'),\n",
       "             ('space origin',\n",
       "              array([ 173.30499268,  133.64700317, -255.        ]))])"
      ]
     },
     "execution_count": 5,
     "metadata": {},
     "output_type": "execute_result"
    }
   ],
   "source": [
    "header"
   ]
  },
  {
   "cell_type": "code",
   "execution_count": null,
   "metadata": {},
   "outputs": [],
   "source": [
    "np.set_printoptions(threshold=np.inf)\n",
    "print(readdata[:, :, 100])"
   ]
  },
  {
   "cell_type": "code",
   "execution_count": null,
   "metadata": {},
   "outputs": [],
   "source": [
    "plt.imshow(readdata[:, :, 100], cmap='gray')"
   ]
  },
  {
   "cell_type": "code",
   "execution_count": null,
   "metadata": {},
   "outputs": [],
   "source": [
    "from PIL import Image\n",
    "im = Image.open('1.png')\n",
    "a = np.asarray(im)\n",
    "img = Image.fromarray(readdata[:, :, 100])\n",
    "img.show()"
   ]
  },
  {
   "cell_type": "code",
   "execution_count": null,
   "metadata": {},
   "outputs": [],
   "source": [
    "plt.hist(readdata[:, :, 100].ravel(),256,[-1000, 1000])\n",
    "plt.show()"
   ]
  },
  {
   "cell_type": "code",
   "execution_count": null,
   "metadata": {},
   "outputs": [],
   "source": [
    "plt.imshow(readdata[:, 100, :], cmap = 'gray')"
   ]
  },
  {
   "cell_type": "code",
   "execution_count": null,
   "metadata": {},
   "outputs": [],
   "source": [
    "plt.hist(readdata[:, 100, :].ravel(),256,[-1000,1000])\n",
    "plt.show()"
   ]
  },
  {
   "cell_type": "code",
   "execution_count": null,
   "metadata": {},
   "outputs": [],
   "source": [
    "plt.imshow(readdata[100, :, :], cmap = 'gray')"
   ]
  },
  {
   "cell_type": "code",
   "execution_count": null,
   "metadata": {},
   "outputs": [],
   "source": [
    "readdata_seg, header_seg = nrrd.read('C:\\\\Users\\\\Harikrishna\\\\Desktop\\\\te\\\\Segmentation-label.nrrd', index_order='F')\n",
    "header_seg"
   ]
  },
  {
   "cell_type": "code",
   "execution_count": null,
   "metadata": {},
   "outputs": [],
   "source": [
    "plt.imshow(readdata_seg[:, :, 100], cmap = \"gray\")"
   ]
  },
  {
   "cell_type": "code",
   "execution_count": null,
   "metadata": {},
   "outputs": [],
   "source": [
    "readdata_seg[:, :, 100]"
   ]
  },
  {
   "cell_type": "code",
   "execution_count": 2,
   "metadata": {},
   "outputs": [
    {
     "name": "stdout",
     "output_type": "stream",
     "text": [
      "(0.68359375, 0.68359375, 0.75)\n"
     ]
    }
   ],
   "source": [
    "# VTK Reader\n",
    "reader = vtk.vtkDICOMImageReader()\n",
    "reader.SetDirectoryName(PATH)\n",
    "reader.Update()\n",
    "\n",
    "_extent = reader.GetDataExtent()\n",
    "ConstPixelDims = [_extent[1]-_extent[0]+1, _extent[3]-_extent[2]+1, _extent[5]-_extent[4]+1]\n",
    "ConstPixelSpacing = reader.GetPixelSpacing()\n",
    "print(ConstPixelSpacing)\n",
    "pointData = reader.GetOutput().GetPointData()\n",
    "arrayData = pointData.GetArray(0)"
   ]
  },
  {
   "cell_type": "code",
   "execution_count": 3,
   "metadata": {},
   "outputs": [],
   "source": [
    "ArrayDicom = numpy_support.vtk_to_numpy(arrayData)\n",
    "ArrayDicom = ArrayDicom.reshape(ConstPixelDims, order='F')"
   ]
  },
  {
   "cell_type": "code",
   "execution_count": 4,
   "metadata": {},
   "outputs": [
    {
     "data": {
      "text/plain": [
       "(-1024, 1526)"
      ]
     },
     "execution_count": 4,
     "metadata": {},
     "output_type": "execute_result"
    }
   ],
   "source": [
    "ArrayDicom.min(), ArrayDicom.max()"
   ]
  },
  {
   "cell_type": "code",
   "execution_count": null,
   "metadata": {},
   "outputs": [],
   "source": [
    "\"\"\"\n",
    "ArrayDicom[ArrayDicom == -2000] = 0\n",
    "slope = reader.GetRescaleSlope ()\n",
    "intercept = -1024\n",
    "\n",
    "ArrayDicom = ArrayDicom*1 + intercept\n",
    "\"\"\""
   ]
  },
  {
   "cell_type": "code",
   "execution_count": null,
   "metadata": {},
   "outputs": [],
   "source": [
    "plt.hist(ArrayDicom[:, :, 100].flatten(), bins=80, color='c')\n",
    "plt.show()"
   ]
  },
  {
   "cell_type": "code",
   "execution_count": null,
   "metadata": {},
   "outputs": [],
   "source": [
    "data_slice = ArrayDicom[:, :, 100].copy()\n",
    "data_slice[data_slice < 300] = 0\n",
    "data_slice[data_slice >= 300] = 1\n",
    "data_slice.max()"
   ]
  },
  {
   "cell_type": "code",
   "execution_count": null,
   "metadata": {},
   "outputs": [],
   "source": [
    "%matplotlib notebook\n",
    "img3 = plt.imshow(ArrayDicom[:, :, 100],interpolation='nearest',cmap='gray',origin='lower', alpha = 1)\n",
    "img2 = plt.imshow(data_slice,interpolation='nearest',origin='lower',cmap = 'bone', alpha = 0.4)\n",
    "plt.show()"
   ]
  },
  {
   "cell_type": "code",
   "execution_count": null,
   "metadata": {},
   "outputs": [],
   "source": [
    "import SimpleITK as sitk\n",
    "otsu_filter = sitk.OtsuThresholdImageFilter()\n",
    "otsu_filter.SetInsideValue(0)\n",
    "otsu_filter.SetOutsideValue(1)\n",
    "img = sitk.GetImageFromArray(ArrayDicom[:, :, 100])\n",
    "seg = sitk.BinaryThreshold(img, lowerThreshold= 300, upperThreshold= 1000, insideValue=1, outsideValue=0)\n",
    "seg_1 = otsu_filter.Execute(img)\n",
    "plt.imshow(sitk.GetArrayFromImage(seg_1), cmap = 'gray')\n",
    "\n",
    "print(otsu_filter.GetThreshold())\n",
    "#blur = cv2.GaussianBlur(ArrayDicom[:, :, 100],(5,5),0)\n",
    "#ret, thresh1 = cv2.threshold(blur, 120, 255, cv2.THRESH_BINARY+cv2.THRESH_OTSU)\n",
    "#plt.imshow(blur, cmap = 'gray')\n",
    "#plt.show()"
   ]
  },
  {
   "cell_type": "code",
   "execution_count": null,
   "metadata": {},
   "outputs": [],
   "source": [
    "#ArrayDicom[ArrayDicom < 300] = 0\n",
    "#ArrayDicom[ArrayDicom > 3000] = 0\n",
    "#ArrayDicom = (ArrayDicom*255)/3300 + 255/5\n",
    "ArrayDicom = (ArrayDicom - np.min(ArrayDicom)) / np.max(ArrayDicom) * 255\n",
    "ArrayDicom[ArrayDicom < 0] = 0\n",
    "ArrayDicom[ArrayDicom  > 255] = 255\n",
    "data_slice = ArrayDicom[:, :, 100]"
   ]
  },
  {
   "cell_type": "code",
   "execution_count": null,
   "metadata": {},
   "outputs": [],
   "source": [
    "data_slice"
   ]
  },
  {
   "cell_type": "code",
   "execution_count": null,
   "metadata": {},
   "outputs": [],
   "source": [
    "plt.imshow(data_slice, cmap = \"gray\")\n",
    "plt.show()"
   ]
  },
  {
   "cell_type": "code",
   "execution_count": null,
   "metadata": {},
   "outputs": [],
   "source": [
    "from skimage import measure, morphology\n",
    "from mpl_toolkits.mplot3d.art3d import Poly3DCollection\n",
    "\n",
    "p = ArrayDicom.transpose(2,1,0)\n",
    "p = p[:,:,::-1]\n",
    "\n",
    "verts, faces,normals,values = measure.marching_cubes(p, 300)\n",
    "fig = plt.figure(figsize=(10, 10))\n",
    "ax = fig.add_subplot(111, projection='3d')\n",
    "\n",
    "# Fancy indexing: `verts[faces]` to generate a collection of triangles\n",
    "mesh = Poly3DCollection(verts[faces], alpha=0.1)\n",
    "face_color = [0.5, 0.5, 1]\n",
    "mesh.set_facecolor(face_color)\n",
    "ax.add_collection3d(mesh)\n",
    "\n",
    "ax.set_xlim(0, p.shape[0])\n",
    "ax.set_ylim(0, p.shape[1])\n",
    "ax.set_zlim(0, p.shape[2])\n",
    "\n",
    "plt.show()"
   ]
  },
  {
   "cell_type": "code",
   "execution_count": 5,
   "metadata": {},
   "outputs": [
    {
     "name": "stdout",
     "output_type": "stream",
     "text": [
      "(512, 512, 681) -1024 1526\n"
     ]
    }
   ],
   "source": [
    "import vtk\n",
    "from vtk.util.numpy_support import numpy_to_vtk, get_vtk_array_type\n",
    "\n",
    "def numpy_to_vti(array, origin, spacing, filename):\n",
    "    \"\"\"This function write a VtkImageData vti file from a numpy array.\n",
    "\n",
    "    :param array: input array\n",
    "    :type array: :class:`numpy.ndarray`\n",
    "    :param origin: the origin of the array\n",
    "    :type origin: array like object of values\n",
    "    :param spacing: the step in each dimension\n",
    "    :type spacing: array like object of values\n",
    "    :param filename: output filename (.vti)\n",
    "    :type filename: str\n",
    "    \"\"\"\n",
    "\n",
    "    vtkArray = numpy_to_vtk(num_array=array.flatten('F'), deep=True,\n",
    "                            array_type=get_vtk_array_type(array.dtype))\n",
    "\n",
    "    imageData = vtk.vtkImageData()\n",
    "    imageData.SetOrigin(origin)\n",
    "    imageData.SetSpacing(spacing)\n",
    "    imageData.SetDimensions(array.shape)\n",
    "    imageData.GetPointData().SetScalars(vtkArray)\n",
    "\n",
    "    writer = vtk.vtkXMLImageDataWriter()\n",
    "    writer.SetFileName(filename)\n",
    "    writer.SetInputData(imageData)\n",
    "    writer.Write()\n",
    "\n",
    "seg = ArrayDicom.copy()\n",
    "print(seg.shape, seg.min(), seg.max())\n",
    "seg[seg < 400] = 0\n",
    "seg[seg >= 400] = 255\n",
    "numpy_to_vti(seg, (0, 0, 0),  ConstPixelSpacing, 'test_seg.vti')"
   ]
  },
  {
   "cell_type": "code",
   "execution_count": 6,
   "metadata": {},
   "outputs": [
    {
     "name": "stdout",
     "output_type": "stream",
     "text": [
      "vtkImageData (0000019BAE49E770)\n",
      "  Debug: Off\n",
      "  Modified Time: 22503\n",
      "  Reference Count: 2\n",
      "  Registered Events: (none)\n",
      "  Information: 0000019BB22300F0\n",
      "  Data Released: False\n",
      "  Global Release Data: Off\n",
      "  UpdateTime: 22504\n",
      "  Field Data:\n",
      "    Debug: Off\n",
      "    Modified Time: 22468\n",
      "    Reference Count: 1\n",
      "    Registered Events: (none)\n",
      "    Number Of Arrays: 0\n",
      "    Number Of Components: 0\n",
      "    Number Of Tuples: 0\n",
      "  Number Of Points: 178520064\n",
      "  Number Of Cells: 177562280\n",
      "  Cell Data:\n",
      "    Debug: Off\n",
      "    Modified Time: 22476\n",
      "    Reference Count: 1\n",
      "    Registered Events: \n",
      "      Registered Observers:\n",
      "        vtkObserver (0000019BB21DB160)\n",
      "          Event: 33\n",
      "          EventName: ModifiedEvent\n",
      "          Command: 0000019BB22308C0\n",
      "          Priority: 0\n",
      "          Tag: 1\n",
      "    Number Of Arrays: 0\n",
      "    Number Of Components: 0\n",
      "    Number Of Tuples: 0\n",
      "    Copy Tuple Flags: ( 1 1 1 1 1 0 1 1 1 1 1 )\n",
      "    Interpolate Flags: ( 1 1 1 1 1 0 0 1 1 1 1 )\n",
      "    Pass Through Flags: ( 1 1 1 1 1 1 1 1 1 1 1 )\n",
      "    Scalars: (none)\n",
      "    Vectors: (none)\n",
      "    Normals: (none)\n",
      "    TCoords: (none)\n",
      "    Tensors: (none)\n",
      "    GlobalIds: (none)\n",
      "    PedigreeIds: (none)\n",
      "    EdgeFlag: (none)\n",
      "    Tangents: (none)\n",
      "    RationalWeights: (none)\n",
      "    HigherOrderDegrees: (none)\n",
      "  Point Data:\n",
      "    Debug: Off\n",
      "    Modified Time: 22489\n",
      "    Reference Count: 1\n",
      "    Registered Events: \n",
      "      Registered Observers:\n",
      "        vtkObserver (0000019BB21DB5E0)\n",
      "          Event: 33\n",
      "          EventName: ModifiedEvent\n",
      "          Command: 0000019BB22308C0\n",
      "          Priority: 0\n",
      "          Tag: 1\n",
      "    Number Of Arrays: 1\n",
      "    Array 0 name = Scalars_\n",
      "    Number Of Components: 1\n",
      "    Number Of Tuples: 178520064\n",
      "    Copy Tuple Flags: ( 1 1 1 1 1 0 1 1 1 1 1 )\n",
      "    Interpolate Flags: ( 1 1 1 1 1 0 0 1 1 1 1 )\n",
      "    Pass Through Flags: ( 1 1 1 1 1 1 1 1 1 1 1 )\n",
      "    Scalars: \n",
      "      Debug: Off\n",
      "      Modified Time: 22489\n",
      "      Reference Count: 1\n",
      "      Registered Events: (none)\n",
      "      Name: Scalars_\n",
      "      Data type: short\n",
      "      Size: 178520064\n",
      "      MaxId: 178520063\n",
      "      NumberOfComponents: 1\n",
      "      Information: 0000000000000000\n",
      "      Name: Scalars_\n",
      "      Number Of Components: 1\n",
      "      Number Of Tuples: 178520064\n",
      "      Size: 178520064\n",
      "      MaxId: 178520063\n",
      "      LookupTable: (none)\n",
      "    Vectors: (none)\n",
      "    Normals: (none)\n",
      "    TCoords: (none)\n",
      "    Tensors: (none)\n",
      "    GlobalIds: (none)\n",
      "    PedigreeIds: (none)\n",
      "    EdgeFlag: (none)\n",
      "    Tangents: (none)\n",
      "    RationalWeights: (none)\n",
      "    HigherOrderDegrees: (none)\n",
      "  Bounds: \n",
      "    Xmin,Xmax: (0, 349.316)\n",
      "    Ymin,Ymax: (0, 349.316)\n",
      "    Zmin,Zmax: (0, 510)\n",
      "  Compute Time: 22517\n",
      "  Spacing: (0.683594, 0.683594, 0.75)\n",
      "  Origin: (0, 0, 0)\n",
      "  Direction: (1, 0, 0, 0, 1, 0, 0, 0, 1)\n",
      "  Dimensions: (512, 512, 681)\n",
      "  Increments: (0, 0, 0)\n",
      "  Extent: (0, 511, 0, 511, 0, 680)\n",
      "\n",
      "\n"
     ]
    }
   ],
   "source": [
    "reader = vtk.vtkXMLImageDataReader()\n",
    "reader.SetFileName('test_seg.vti')\n",
    "reader.Update()\n",
    "polydata = reader.GetOutput()\n",
    "print(polydata)\n",
    "\n",
    "surface = vtk.vtkMarchingCubes()\n",
    "surface.SetInputData(reader.GetOutput())\n",
    "surface.ComputeNormalsOn()\n",
    "surface.SetValue(0, 1)\n",
    "\n",
    "renderer = vtk.vtkRenderer()\n",
    "renderer.SetBackground(1, 1, 1)\n",
    "\n",
    "renderWindow = vtk.vtkRenderWindow()\n",
    "renderWindow.AddRenderer(renderer)\n",
    "\n",
    "interactor = vtk.vtkRenderWindowInteractor()\n",
    "interactor.SetRenderWindow(renderWindow)\n",
    "\n",
    "smoothing_iterations = 15\n",
    "pass_band = 0.001\n",
    "feature_angle = 120.0\n",
    "smoother = vtk.vtkWindowedSincPolyDataFilter()\n",
    "smoother.SetInputConnection(surface.GetOutputPort())\n",
    "smoother.SetNumberOfIterations(smoothing_iterations)\n",
    "smoother.BoundarySmoothingOff()\n",
    "smoother.FeatureEdgeSmoothingOff()\n",
    "smoother.SetFeatureAngle(feature_angle)\n",
    "smoother.SetPassBand(pass_band)\n",
    "smoother.NonManifoldSmoothingOn()\n",
    "smoother.NormalizeCoordinatesOn()\n",
    "smoother.Update()\n",
    "\n",
    "mapper = vtk.vtkPolyDataMapper()\n",
    "mapper.SetInputConnection(smoother.GetOutputPort());\n",
    "mapper.ScalarVisibilityOff()\n",
    "\n",
    "actor = vtk.vtkActor()\n",
    "actor.SetMapper(mapper)\n",
    "actor.GetProperty().SetColor(0.105, 0.980, 0)\n",
    "actor.GetProperty().SetAmbient(0.3);\n",
    "actor.GetProperty().SetDiffuse(0.5);\n",
    "#actor.GetProperty().SetSpecular(0.1);\n",
    "style = vtk.vtkInteractorStyleTrackballCamera()\n",
    "interactor.SetInteractorStyle( style );\n",
    "renderer.AddActor(actor);\n",
    "renderWindow.Render();\n",
    "interactor.Start()"
   ]
  },
  {
   "cell_type": "code",
   "execution_count": 10,
   "metadata": {},
   "outputs": [
    {
     "ename": "AttributeError",
     "evalue": "module 'temp' has no attribute 'TemporaryFile'",
     "output_type": "error",
     "traceback": [
      "\u001b[1;31m---------------------------------------------------------------------------\u001b[0m",
      "\u001b[1;31mAttributeError\u001b[0m                            Traceback (most recent call last)",
      "\u001b[1;32m<ipython-input-10-2f9656773acf>\u001b[0m in \u001b[0;36m<module>\u001b[1;34m\u001b[0m\n\u001b[0;32m      1\u001b[0m \u001b[1;32mimport\u001b[0m \u001b[0mtemp\u001b[0m\u001b[1;33m\u001b[0m\u001b[1;33m\u001b[0m\u001b[0m\n\u001b[0;32m      2\u001b[0m \u001b[1;33m\u001b[0m\u001b[0m\n\u001b[1;32m----> 3\u001b[1;33m \u001b[0mtemp\u001b[0m \u001b[1;33m=\u001b[0m \u001b[0mtemp\u001b[0m\u001b[1;33m.\u001b[0m\u001b[0mTemporaryFile\u001b[0m\u001b[1;33m(\u001b[0m\u001b[1;33m)\u001b[0m\u001b[1;33m\u001b[0m\u001b[1;33m\u001b[0m\u001b[0m\n\u001b[0m\u001b[0;32m      4\u001b[0m \u001b[1;33m\u001b[0m\u001b[0m\n\u001b[0;32m      5\u001b[0m \u001b[0mtemp\u001b[0m\u001b[1;33m.\u001b[0m\u001b[0mwrite\u001b[0m\u001b[1;33m(\u001b[0m\u001b[1;34mb'Hello world!'\u001b[0m\u001b[1;33m)\u001b[0m\u001b[1;33m\u001b[0m\u001b[1;33m\u001b[0m\u001b[0m\n",
      "\u001b[1;31mAttributeError\u001b[0m: module 'temp' has no attribute 'TemporaryFile'"
     ]
    }
   ],
   "source": [
    "stlWriter = vtk.vtkSTLWriter()\n",
    "stlWriter.SetFileName('test.stl')\n",
    "stlWriter.SetInputConnection(self.surface.GetOutputPort())\n",
    "stlWriter.Write()"
   ]
  }
 ],
 "metadata": {
  "kernelspec": {
   "display_name": "Python 3",
   "language": "python",
   "name": "python3"
  },
  "language_info": {
   "codemirror_mode": {
    "name": "ipython",
    "version": 3
   },
   "file_extension": ".py",
   "mimetype": "text/x-python",
   "name": "python",
   "nbconvert_exporter": "python",
   "pygments_lexer": "ipython3",
   "version": "3.7.7"
  }
 },
 "nbformat": 4,
 "nbformat_minor": 4
}
